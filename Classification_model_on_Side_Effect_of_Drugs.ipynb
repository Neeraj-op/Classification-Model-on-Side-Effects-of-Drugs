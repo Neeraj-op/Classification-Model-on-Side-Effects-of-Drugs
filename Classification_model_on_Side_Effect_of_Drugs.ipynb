{
  "nbformat": 4,
  "nbformat_minor": 0,
  "metadata": {
    "colab": {
      "name": "Classification model on Side Effect of Drugs.ipynb",
      "provenance": [],
      "collapsed_sections": []
    },
    "kernelspec": {
      "name": "python3",
      "display_name": "Python 3"
    },
    "language_info": {
      "name": "python"
    }
  },
  "cells": [
    {
      "cell_type": "code",
      "metadata": {
        "id": "MHXv1Cw_Me4Y"
      },
      "source": [
        "import pandas as pd\n",
        "import numpy as np"
      ],
      "execution_count": 9,
      "outputs": []
    },
    {
      "cell_type": "code",
      "metadata": {
        "colab": {
          "base_uri": "https://localhost:8080/"
        },
        "id": "b4MiZ2HIKOZU",
        "outputId": "4845d9bf-c5c6-40ab-b4c1-1765ecae2435"
      },
      "source": [
        "from google.colab import drive\n",
        "drive.mount('/content/drive')"
      ],
      "execution_count": 5,
      "outputs": [
        {
          "output_type": "stream",
          "text": [
            "Drive already mounted at /content/drive; to attempt to forcibly remount, call drive.mount(\"/content/drive\", force_remount=True).\n"
          ],
          "name": "stdout"
        }
      ]
    },
    {
      "cell_type": "code",
      "metadata": {
        "id": "6x2xHLY9MxE3"
      },
      "source": [
        "data = pd.read_excel('/content/drive/MyDrive/Side effects of Drugs.xlsx')"
      ],
      "execution_count": 10,
      "outputs": []
    },
    {
      "cell_type": "code",
      "metadata": {
        "id": "j20X62CpM3bn"
      },
      "source": [
        "df = data.head()"
      ],
      "execution_count": 11,
      "outputs": []
    },
    {
      "cell_type": "code",
      "metadata": {
        "colab": {
          "base_uri": "https://localhost:8080/",
          "height": 203
        },
        "id": "BCTKjaYx-xUt",
        "outputId": "1d916574-a2c3-4b20-910b-57ea010ba0a8"
      },
      "source": [
        "df[['drug_name' , 'side_effects']].head(15)"
      ],
      "execution_count": 12,
      "outputs": [
        {
          "output_type": "execute_result",
          "data": {
            "text/html": [
              "<div>\n",
              "<style scoped>\n",
              "    .dataframe tbody tr th:only-of-type {\n",
              "        vertical-align: middle;\n",
              "    }\n",
              "\n",
              "    .dataframe tbody tr th {\n",
              "        vertical-align: top;\n",
              "    }\n",
              "\n",
              "    .dataframe thead th {\n",
              "        text-align: right;\n",
              "    }\n",
              "</style>\n",
              "<table border=\"1\" class=\"dataframe\">\n",
              "  <thead>\n",
              "    <tr style=\"text-align: right;\">\n",
              "      <th></th>\n",
              "      <th>drug_name</th>\n",
              "      <th>side_effects</th>\n",
              "    </tr>\n",
              "  </thead>\n",
              "  <tbody>\n",
              "    <tr>\n",
              "      <th>0</th>\n",
              "      <td>Carnitine</td>\n",
              "      <td>Anaemia</td>\n",
              "    </tr>\n",
              "    <tr>\n",
              "      <th>1</th>\n",
              "      <td>gamma-Aminobutyric Acid</td>\n",
              "      <td>Abdominal_pain</td>\n",
              "    </tr>\n",
              "    <tr>\n",
              "      <th>2</th>\n",
              "      <td>Aminolevulinic Acid</td>\n",
              "      <td>Amblyopia</td>\n",
              "    </tr>\n",
              "    <tr>\n",
              "      <th>3</th>\n",
              "      <td>Leucovorin</td>\n",
              "      <td>Anaemia</td>\n",
              "    </tr>\n",
              "    <tr>\n",
              "      <th>4</th>\n",
              "      <td>5-methyltetrahydrofolate</td>\n",
              "      <td>Decreased_appetite</td>\n",
              "    </tr>\n",
              "  </tbody>\n",
              "</table>\n",
              "</div>"
            ],
            "text/plain": [
              "                  drug_name        side_effects\n",
              "0                 Carnitine             Anaemia\n",
              "1   gamma-Aminobutyric Acid      Abdominal_pain\n",
              "2       Aminolevulinic Acid           Amblyopia\n",
              "3                Leucovorin             Anaemia\n",
              "4  5-methyltetrahydrofolate  Decreased_appetite"
            ]
          },
          "metadata": {},
          "execution_count": 12
        }
      ]
    },
    {
      "cell_type": "code",
      "metadata": {
        "id": "vj-WVgiENUT2"
      },
      "source": [
        "from sklearn.preprocessing import OneHotEncoder, LabelEncoder"
      ],
      "execution_count": 13,
      "outputs": []
    },
    {
      "cell_type": "code",
      "metadata": {
        "id": "yCJL--FlNnwa"
      },
      "source": [
        "# one hot encoder\n",
        "oe = OneHotEncoder(sparse=False)\n",
        "ages = oe.fit_transform(data['age'].values.reshape(-1, 1))"
      ],
      "execution_count": 14,
      "outputs": []
    },
    {
      "cell_type": "code",
      "metadata": {
        "id": "5gGhAv1WN00v"
      },
      "source": [
        "age = pd.DataFrame(ages)"
      ],
      "execution_count": 15,
      "outputs": []
    },
    {
      "cell_type": "code",
      "metadata": {
        "id": "3msOcStmOUT5"
      },
      "source": [
        "train = pd.concat([data, age], axis=1)"
      ],
      "execution_count": 16,
      "outputs": []
    },
    {
      "cell_type": "code",
      "metadata": {
        "id": "aaVMNNwwPLQc",
        "colab": {
          "base_uri": "https://localhost:8080/",
          "height": 203
        },
        "outputId": "b8795c33-594b-4a9d-ce0e-e492344194e9"
      },
      "source": [
        "train.head()"
      ],
      "execution_count": 17,
      "outputs": [
        {
          "output_type": "execute_result",
          "data": {
            "text/html": [
              "<div>\n",
              "<style scoped>\n",
              "    .dataframe tbody tr th:only-of-type {\n",
              "        vertical-align: middle;\n",
              "    }\n",
              "\n",
              "    .dataframe tbody tr th {\n",
              "        vertical-align: top;\n",
              "    }\n",
              "\n",
              "    .dataframe thead th {\n",
              "        text-align: right;\n",
              "    }\n",
              "</style>\n",
              "<table border=\"1\" class=\"dataframe\">\n",
              "  <thead>\n",
              "    <tr style=\"text-align: right;\">\n",
              "      <th></th>\n",
              "      <th>name</th>\n",
              "      <th>age</th>\n",
              "      <th>gender</th>\n",
              "      <th>race</th>\n",
              "      <th>side_effects</th>\n",
              "      <th>drug_name</th>\n",
              "      <th>0</th>\n",
              "      <th>1</th>\n",
              "      <th>2</th>\n",
              "      <th>3</th>\n",
              "      <th>4</th>\n",
              "      <th>5</th>\n",
              "    </tr>\n",
              "  </thead>\n",
              "  <tbody>\n",
              "    <tr>\n",
              "      <th>0</th>\n",
              "      <td>Aaban</td>\n",
              "      <td>25-34</td>\n",
              "      <td>M</td>\n",
              "      <td>white</td>\n",
              "      <td>Anaemia</td>\n",
              "      <td>Carnitine</td>\n",
              "      <td>0.0</td>\n",
              "      <td>1.0</td>\n",
              "      <td>0.0</td>\n",
              "      <td>0.0</td>\n",
              "      <td>0.0</td>\n",
              "      <td>0.0</td>\n",
              "    </tr>\n",
              "    <tr>\n",
              "      <th>1</th>\n",
              "      <td>Aabha</td>\n",
              "      <td>35-44</td>\n",
              "      <td>F</td>\n",
              "      <td>white</td>\n",
              "      <td>Abdominal_pain</td>\n",
              "      <td>gamma-Aminobutyric Acid</td>\n",
              "      <td>0.0</td>\n",
              "      <td>0.0</td>\n",
              "      <td>1.0</td>\n",
              "      <td>0.0</td>\n",
              "      <td>0.0</td>\n",
              "      <td>0.0</td>\n",
              "    </tr>\n",
              "    <tr>\n",
              "      <th>2</th>\n",
              "      <td>Aabid</td>\n",
              "      <td>18-24</td>\n",
              "      <td>M</td>\n",
              "      <td>white</td>\n",
              "      <td>Amblyopia</td>\n",
              "      <td>Aminolevulinic Acid</td>\n",
              "      <td>1.0</td>\n",
              "      <td>0.0</td>\n",
              "      <td>0.0</td>\n",
              "      <td>0.0</td>\n",
              "      <td>0.0</td>\n",
              "      <td>0.0</td>\n",
              "    </tr>\n",
              "    <tr>\n",
              "      <th>3</th>\n",
              "      <td>Aabriella</td>\n",
              "      <td>35-44</td>\n",
              "      <td>F</td>\n",
              "      <td>white</td>\n",
              "      <td>Anaemia</td>\n",
              "      <td>Leucovorin</td>\n",
              "      <td>0.0</td>\n",
              "      <td>0.0</td>\n",
              "      <td>1.0</td>\n",
              "      <td>0.0</td>\n",
              "      <td>0.0</td>\n",
              "      <td>0.0</td>\n",
              "    </tr>\n",
              "    <tr>\n",
              "      <th>4</th>\n",
              "      <td>Aada</td>\n",
              "      <td>65+</td>\n",
              "      <td>F</td>\n",
              "      <td>white</td>\n",
              "      <td>Decreased_appetite</td>\n",
              "      <td>5-methyltetrahydrofolate</td>\n",
              "      <td>0.0</td>\n",
              "      <td>0.0</td>\n",
              "      <td>0.0</td>\n",
              "      <td>0.0</td>\n",
              "      <td>0.0</td>\n",
              "      <td>1.0</td>\n",
              "    </tr>\n",
              "  </tbody>\n",
              "</table>\n",
              "</div>"
            ],
            "text/plain": [
              "        name    age gender   race        side_effects  ...    1    2    3    4    5\n",
              "0      Aaban  25-34      M  white             Anaemia  ...  1.0  0.0  0.0  0.0  0.0\n",
              "1      Aabha  35-44      F  white      Abdominal_pain  ...  0.0  1.0  0.0  0.0  0.0\n",
              "2      Aabid  18-24      M  white           Amblyopia  ...  0.0  0.0  0.0  0.0  0.0\n",
              "3  Aabriella  35-44      F  white             Anaemia  ...  0.0  1.0  0.0  0.0  0.0\n",
              "4       Aada    65+      F  white  Decreased_appetite  ...  0.0  0.0  0.0  0.0  1.0\n",
              "\n",
              "[5 rows x 12 columns]"
            ]
          },
          "metadata": {},
          "execution_count": 17
        }
      ]
    },
    {
      "cell_type": "code",
      "metadata": {
        "id": "1_Dj4FEwPVYd"
      },
      "source": [
        "le = LabelEncoder()\n",
        "train['gender'] = le.fit_transform(train['gender'])\n",
        "train['race'] = le.fit_transform(train['race'])\n",
        "# train['age'] = le.fit_transform(train['age'])"
      ],
      "execution_count": 18,
      "outputs": []
    },
    {
      "cell_type": "code",
      "metadata": {
        "id": "-dqqTQlCW5EM"
      },
      "source": [
        "train['drug_name'] = le.fit_transform(train['drug_name'])"
      ],
      "execution_count": 19,
      "outputs": []
    },
    {
      "cell_type": "code",
      "metadata": {
        "colab": {
          "base_uri": "https://localhost:8080/",
          "height": 203
        },
        "id": "k4MW-gpRLHt7",
        "outputId": "89681a81-6ff9-466c-b700-d080463ed7b7"
      },
      "source": [
        "train.head()"
      ],
      "execution_count": 20,
      "outputs": [
        {
          "output_type": "execute_result",
          "data": {
            "text/html": [
              "<div>\n",
              "<style scoped>\n",
              "    .dataframe tbody tr th:only-of-type {\n",
              "        vertical-align: middle;\n",
              "    }\n",
              "\n",
              "    .dataframe tbody tr th {\n",
              "        vertical-align: top;\n",
              "    }\n",
              "\n",
              "    .dataframe thead th {\n",
              "        text-align: right;\n",
              "    }\n",
              "</style>\n",
              "<table border=\"1\" class=\"dataframe\">\n",
              "  <thead>\n",
              "    <tr style=\"text-align: right;\">\n",
              "      <th></th>\n",
              "      <th>name</th>\n",
              "      <th>age</th>\n",
              "      <th>gender</th>\n",
              "      <th>race</th>\n",
              "      <th>side_effects</th>\n",
              "      <th>drug_name</th>\n",
              "      <th>0</th>\n",
              "      <th>1</th>\n",
              "      <th>2</th>\n",
              "      <th>3</th>\n",
              "      <th>4</th>\n",
              "      <th>5</th>\n",
              "    </tr>\n",
              "  </thead>\n",
              "  <tbody>\n",
              "    <tr>\n",
              "      <th>0</th>\n",
              "      <td>Aaban</td>\n",
              "      <td>25-34</td>\n",
              "      <td>1</td>\n",
              "      <td>6</td>\n",
              "      <td>Anaemia</td>\n",
              "      <td>136</td>\n",
              "      <td>0.0</td>\n",
              "      <td>1.0</td>\n",
              "      <td>0.0</td>\n",
              "      <td>0.0</td>\n",
              "      <td>0.0</td>\n",
              "      <td>0.0</td>\n",
              "    </tr>\n",
              "    <tr>\n",
              "      <th>1</th>\n",
              "      <td>Aabha</td>\n",
              "      <td>35-44</td>\n",
              "      <td>0</td>\n",
              "      <td>6</td>\n",
              "      <td>Abdominal_pain</td>\n",
              "      <td>982</td>\n",
              "      <td>0.0</td>\n",
              "      <td>0.0</td>\n",
              "      <td>1.0</td>\n",
              "      <td>0.0</td>\n",
              "      <td>0.0</td>\n",
              "      <td>0.0</td>\n",
              "    </tr>\n",
              "    <tr>\n",
              "      <th>2</th>\n",
              "      <td>Aabid</td>\n",
              "      <td>18-24</td>\n",
              "      <td>1</td>\n",
              "      <td>6</td>\n",
              "      <td>Amblyopia</td>\n",
              "      <td>49</td>\n",
              "      <td>1.0</td>\n",
              "      <td>0.0</td>\n",
              "      <td>0.0</td>\n",
              "      <td>0.0</td>\n",
              "      <td>0.0</td>\n",
              "      <td>0.0</td>\n",
              "    </tr>\n",
              "    <tr>\n",
              "      <th>3</th>\n",
              "      <td>Aabriella</td>\n",
              "      <td>35-44</td>\n",
              "      <td>0</td>\n",
              "      <td>6</td>\n",
              "      <td>Anaemia</td>\n",
              "      <td>419</td>\n",
              "      <td>0.0</td>\n",
              "      <td>0.0</td>\n",
              "      <td>1.0</td>\n",
              "      <td>0.0</td>\n",
              "      <td>0.0</td>\n",
              "      <td>0.0</td>\n",
              "    </tr>\n",
              "    <tr>\n",
              "      <th>4</th>\n",
              "      <td>Aada</td>\n",
              "      <td>65+</td>\n",
              "      <td>0</td>\n",
              "      <td>6</td>\n",
              "      <td>Decreased_appetite</td>\n",
              "      <td>19</td>\n",
              "      <td>0.0</td>\n",
              "      <td>0.0</td>\n",
              "      <td>0.0</td>\n",
              "      <td>0.0</td>\n",
              "      <td>0.0</td>\n",
              "      <td>1.0</td>\n",
              "    </tr>\n",
              "  </tbody>\n",
              "</table>\n",
              "</div>"
            ],
            "text/plain": [
              "        name    age  gender  race        side_effects  ...    1    2    3    4    5\n",
              "0      Aaban  25-34       1     6             Anaemia  ...  1.0  0.0  0.0  0.0  0.0\n",
              "1      Aabha  35-44       0     6      Abdominal_pain  ...  0.0  1.0  0.0  0.0  0.0\n",
              "2      Aabid  18-24       1     6           Amblyopia  ...  0.0  0.0  0.0  0.0  0.0\n",
              "3  Aabriella  35-44       0     6             Anaemia  ...  0.0  1.0  0.0  0.0  0.0\n",
              "4       Aada    65+       0     6  Decreased_appetite  ...  0.0  0.0  0.0  0.0  1.0\n",
              "\n",
              "[5 rows x 12 columns]"
            ]
          },
          "metadata": {},
          "execution_count": 20
        }
      ]
    },
    {
      "cell_type": "code",
      "metadata": {
        "colab": {
          "base_uri": "https://localhost:8080/"
        },
        "id": "3R1knshbLYeO",
        "outputId": "793ba050-86e7-4844-ef62-66943e56a312"
      },
      "source": [
        "train.isna().sum()"
      ],
      "execution_count": 21,
      "outputs": [
        {
          "output_type": "execute_result",
          "data": {
            "text/plain": [
              "name            0\n",
              "age             0\n",
              "gender          0\n",
              "race            0\n",
              "side_effects    0\n",
              "drug_name       0\n",
              "0               0\n",
              "1               0\n",
              "2               0\n",
              "3               0\n",
              "4               0\n",
              "5               0\n",
              "dtype: int64"
            ]
          },
          "metadata": {},
          "execution_count": 21
        }
      ]
    },
    {
      "cell_type": "code",
      "metadata": {
        "id": "j8_uD4aTPjty"
      },
      "source": [
        "X = train.drop(['name', 'side_effects', 'age'], axis=1)\n",
        "y = train['side_effects']"
      ],
      "execution_count": 22,
      "outputs": []
    },
    {
      "cell_type": "code",
      "metadata": {
        "id": "A7kjoL3crYm2"
      },
      "source": [
        "from sklearn.model_selection import train_test_split\n",
        "X_train, X_test, y_train, y_test = train_test_split(X, y, test_size = 0.2, random_state = 0)"
      ],
      "execution_count": 23,
      "outputs": []
    },
    {
      "cell_type": "code",
      "metadata": {
        "colab": {
          "base_uri": "https://localhost:8080/"
        },
        "id": "PwI8GmIx-kue",
        "outputId": "fa3b4a53-9668-417a-8d0f-f4195f6e38ef"
      },
      "source": [
        "from sklearn.ensemble import RandomForestClassifier\n",
        "classifier = RandomForestClassifier(n_estimators = 10, criterion = 'entropy', random_state = 0)\n",
        "classifier.fit(X_train, y_train)"
      ],
      "execution_count": 24,
      "outputs": [
        {
          "output_type": "execute_result",
          "data": {
            "text/plain": [
              "RandomForestClassifier(bootstrap=True, ccp_alpha=0.0, class_weight=None,\n",
              "                       criterion='entropy', max_depth=None, max_features='auto',\n",
              "                       max_leaf_nodes=None, max_samples=None,\n",
              "                       min_impurity_decrease=0.0, min_impurity_split=None,\n",
              "                       min_samples_leaf=1, min_samples_split=2,\n",
              "                       min_weight_fraction_leaf=0.0, n_estimators=10,\n",
              "                       n_jobs=None, oob_score=False, random_state=0, verbose=0,\n",
              "                       warm_start=False)"
            ]
          },
          "metadata": {},
          "execution_count": 24
        }
      ]
    },
    {
      "cell_type": "code",
      "metadata": {
        "colab": {
          "base_uri": "https://localhost:8080/"
        },
        "id": "Pltb8cVH-pYh",
        "outputId": "08f6b9ef-d9d8-4aee-e7cd-916333db960a"
      },
      "source": [
        "from sklearn.metrics import confusion_matrix, accuracy_score\n",
        "y_pred = classifier.predict(X_test)\n",
        "cm = confusion_matrix(y_test, y_pred)\n",
        "print(cm)\n",
        "accuracy_score(y_test, y_pred)"
      ],
      "execution_count": 25,
      "outputs": [
        {
          "output_type": "stream",
          "text": [
            "[[51  0  0 ...  0  0  0]\n",
            " [ 0 37  0 ...  0  0  0]\n",
            " [ 0  0 44 ...  0  0  0]\n",
            " ...\n",
            " [ 0  0  0 ... 35  0  0]\n",
            " [ 0  0  0 ...  0 51  0]\n",
            " [ 0  0  0 ...  0  0 19]]\n"
          ],
          "name": "stdout"
        },
        {
          "output_type": "execute_result",
          "data": {
            "text/plain": [
              "0.912325"
            ]
          },
          "metadata": {},
          "execution_count": 25
        }
      ]
    },
    {
      "cell_type": "code",
      "metadata": {
        "id": "B9uIbYBqWvKB"
      },
      "source": [
        ""
      ],
      "execution_count": null,
      "outputs": []
    }
  ]
}